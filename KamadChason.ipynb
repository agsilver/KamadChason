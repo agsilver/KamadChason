{
  "nbformat": 4,
  "nbformat_minor": 0,
  "metadata": {
    "colab": {
      "name": "KamadChason.ipynb",
      "provenance": [],
      "collapsed_sections": []
    },
    "kernelspec": {
      "name": "python3",
      "display_name": "Python 3"
    },
    "language_info": {
      "name": "python"
    }
  },
  "cells": [
    {
      "cell_type": "code",
      "metadata": {
        "id": "sGr97jSvIZUc"
      },
      "source": [
        "#██╗  ██╗ █████╗ ███╗   ███╗ █████╗ ██████╗      ██████╗██╗  ██╗ █████╗ ███████╗ ██████╗ ███╗   ██╗\n",
        "#██║ ██╔╝██╔══██╗████╗ ████║██╔══██╗██╔══██╗    ██╔════╝██║  ██║██╔══██╗██╔════╝██╔═══██╗████╗  ██║\n",
        "#█████╔╝ ███████║██╔████╔██║███████║██║  ██║    ██║     ███████║███████║███████╗██║   ██║██╔██╗ ██║\n",
        "#██╔═██╗ ██╔══██║██║╚██╔╝██║██╔══██║██║  ██║    ██║     ██╔══██║██╔══██║╚════██║██║   ██║██║╚██╗██║\n",
        "#██║  ██╗██║  ██║██║ ╚═╝ ██║██║  ██║██████╔╝    ╚██████╗██║  ██║██║  ██║███████║╚██████╔╝██║ ╚████║\n",
        "#╚═╝  ╚═╝╚═╝  ╚═╝╚═╝     ╚═╝╚═╝  ╚═╝╚═════╝      ╚═════╝╚═╝  ╚═╝╚═╝  ╚═╝╚══════╝ ╚═════╝ ╚═╝  ╚═══╝\n",
        "\n",
        "# Kamad Chason - automated data extraction for a covid-19 vaccination tracking project\n",
        "# Created by agsilver - Sep 21\n",
        "# version 1.0"
      ],
      "execution_count": null,
      "outputs": []
    },
    {
      "cell_type": "code",
      "metadata": {
        "colab": {
          "base_uri": "https://localhost:8080/"
        },
        "id": "dev-FEMB88BB",
        "outputId": "0daf4e5d-8ed0-44c1-85d1-d3076123db6f"
      },
      "source": [
        "import pandas as pd\n",
        "from google.colab import drive\n",
        "from openpyxl import load_workbook\n",
        "\n",
        "date = '9/3/2021'  # Enter yesterday's date in the following format: m/d/yyyy. \n",
        "                   # Example: 03/09/2021 - incorrect, 3/9/2021 - correct.\n",
        "\n",
        "drive.mount('/content/gdrive', force_remount=True)\n",
        "\n",
        "Excels = ('')  # the excel file that are used to gather the data\n",
        "\n",
        "moh_data = pd.read_csv('')  # source file which the data is gathered from\n",
        "\n",
        "# names of cities in project round, each round belongs to a different excel file\n",
        "RoundA = ()\n",
        "RoundB = ()\n",
        "RoundC = ()\n",
        "RoundD = ()\n",
        "\n",
        "city_names = {Excels[0]: RoundA, Excels[1]: RoundB, Excels[2]: RoundC, Excels[3]: RoundD}  # required since the spelling isn't identical in the source and destination\n",
        "\n",
        "for excel in Excels:\n",
        "  path = '/content/gdrive/MyDrive/path...' + excel\n",
        "  wb = load_workbook(path)\n",
        "  cities = city_names[excel]\n",
        "\n",
        "  sheets = wb.sheetnames[8:]\n",
        "  \n",
        "  for i, sheet in enumerate(sheets):\n",
        "    ws = wb[sheet]\n",
        "\n",
        "    first_dose = moh_data.loc[(moh_data[\"city\"] == cities[i]) & (moh_data[\"date\"] == date), \" first dose\"].values # filtering data from moh\n",
        "\n",
        "    kids = 0\n",
        "    for i in range(0, 4):\n",
        "      if first_dose[i] != \"under 15\":  # IMOH privacy policy\n",
        "        kids += int(first_dose[i])\n",
        "    kids = [str(kids)]\n",
        "\n",
        "    vaccs = kids + list(first_dose[4:])\n",
        "\n",
        "    last_row = 1\n",
        "    for row in ws.iter_rows():\n",
        "        if row[1].value != None:\n",
        "            last_row += 1\n",
        "            continue\n",
        "        elif row[1].value == None:\n",
        "            break\n",
        "\n",
        "    for col, val in enumerate(vaccs, start=4):\n",
        "      ws.cell(row=last_row, column=col).value = val\n",
        "\n",
        "    wb.save(path)"
      ],
      "execution_count": null,
      "outputs": [
        {
          "output_type": "stream",
          "name": "stdout",
          "text": [
            "Mounted at /content/gdrive\n"
          ]
        }
      ]
    }
  ]
}